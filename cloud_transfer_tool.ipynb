{
  "cells": [
    {
      "cell_type": "code",
      "execution_count": null,
      "metadata": {
        "id": "R_TDJ3Yz398y"
      },
      "outputs": [],
      "source": [
        "!pip install requests\n",
        "!pip install python-magic\n"
      ]
    },
    {
      "cell_type": "code",
      "execution_count": null,
      "metadata": {
        "id": "068wU7nz3_w6"
      },
      "outputs": [],
      "source": [
        "import requests\n",
        "from requests.auth import HTTPBasicAuth\n",
        "from tqdm import tqdm\n",
        "import os\n",
        "from urllib.parse import urlparse\n",
        "from datetime import datetime\n",
        "import magic\n",
        "\n",
        "def get_content_type(url):\n",
        "    try:\n",
        "        response = requests.head(url)\n",
        "        response.raise_for_status()\n",
        "        content_type = response.headers.get('content-type')\n",
        "        return content_type.split(';')[0] if content_type else None\n",
        "    except requests.exceptions.RequestException as e:\n",
        "        print(f\"Failed to fetch content type. Error: {e}\")\n",
        "        return None\n",
        "\n",
        "# Define the URL of the file you want to download\n",
        "download_url = input(\"Enter the URL of the file you want to download: \")\n",
        "\n",
        "# Define the URL of the WebDAV server including the file name\n",
        "upload_url = \"\"\n",
        "\n",
        "# Define the username and password for the WebDAV server\n",
        "username = \"\"\n",
        "password = \"\"\n",
        "\n",
        "# Set the chunk size for streaming\n",
        "chunk_size = 1024 * 1024  # 1 MB\n",
        "\n",
        "# Check if the WebDAV server is reachable\n",
        "try:\n",
        "    response = requests.head(upload_url, auth=HTTPBasicAuth(username, password))\n",
        "    response.raise_for_status()  # Raise an exception for non-2xx status codes\n",
        "    print(\"WebDAV server is reachable. Starting upload...\")\n",
        "except requests.exceptions.RequestException as e:\n",
        "    print(f\"Failed to connect to WebDAV server. Error: {e}\")\n",
        "    exit(1)  # Exit the script if the server is not reachable\n",
        "\n",
        "# Get the content type of the file\n",
        "content_type = get_content_type(download_url)\n",
        "if not content_type:\n",
        "    print(\"Failed to determine content type. Please check the URL.\")\n",
        "    exit(1)\n",
        "\n",
        "# Download the file in chunks and display progress\n",
        "temp_file_path = \"temp_file\"\n",
        "with requests.get(download_url, stream=True) as download_response:\n",
        "    total_size = int(download_response.headers.get('content-length', 0))\n",
        "    with tqdm(total=total_size, unit='B', unit_scale=True, desc='Downloading file', ascii=True) as pbar:\n",
        "        with open(temp_file_path, 'wb') as temp_file:\n",
        "            for chunk in download_response.iter_content(chunk_size=chunk_size):\n",
        "                if chunk:\n",
        "                    temp_file.write(chunk)\n",
        "                    pbar.update(len(chunk))\n",
        "\n",
        "# Use python-magic to detect the file type\n",
        "mime = magic.Magic(mime=True)\n",
        "file_type = mime.from_file(temp_file_path)\n",
        "\n",
        "# Modify the upload URL to include a timestamp for uniqueness\n",
        "timestamp = datetime.now().strftime(\"%Y%m%d%H%M%S\")\n",
        "upload_url = f\"{upload_url}file_{timestamp}.{file_type.split('/')[1]}\"\n",
        "\n",
        "# Upload the file in chunks and display progress\n",
        "with open(temp_file_path, 'rb') as temp_file:\n",
        "    with tqdm(total=os.path.getsize(temp_file_path), unit='B', unit_scale=True, desc='Uploading file', ascii=True) as pbar:\n",
        "        temp_file.seek(0)  # Seek back to the beginning of the file\n",
        "        with requests.put(\n",
        "            upload_url,\n",
        "            auth=HTTPBasicAuth(username, password),\n",
        "            data=temp_file,\n",
        "            headers={\"Content-Type\": content_type},\n",
        "        ) as upload_response:\n",
        "            if upload_response.status_code == 201:\n",
        "                print(\"File uploaded successfully\")\n",
        "            else:\n",
        "                print(f\"Failed to upload file. Status code: {upload_response.status_code}\")\n",
        "\n",
        "# Remove the temporary file\n",
        "os.remove(temp_file_path)\n"
      ]
    }
  ],
  "metadata": {
    "colab": {
      "provenance": []
    },
    "kernelspec": {
      "display_name": "Python 3",
      "name": "python3"
    },
    "language_info": {
      "name": "python"
    }
  },
  "nbformat": 4,
  "nbformat_minor": 0
}